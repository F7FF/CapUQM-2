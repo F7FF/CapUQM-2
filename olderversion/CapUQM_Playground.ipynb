{
  "nbformat": 4,
  "nbformat_minor": 0,
  "metadata": {
    "colab": {
      "provenance": []
    },
    "kernelspec": {
      "name": "python3",
      "display_name": "Python 3.9.17 64-bit"
    },
    "language_info": {
      "name": "python",
      "version": "3.9.17"
    },
    "interpreter": {
      "hash": "4cd7ab41f5fca4b9b44701077e38c5ffd31fe66a6cab21e0214b68d958d0e462"
    }
  },
  "cells": [
    {
      "cell_type": "code",
      "source": [
        "try:\n",
        "    import dimod\n",
        "    from dwave.system import LeapHybridSampler\n",
        "except: #this is needed or Colab will shit itself\n",
        "    !pip install dimod"
      ],
      "metadata": {
        "id": "2Zy1r8p4L1lu"
      },
      "execution_count": 26,
      "outputs": []
    },
    {
      "cell_type": "code",
      "source": [
        "def LJ(s, e, r): #sigma, epsilon, radius (distance)\n",
        "    dist_term = (r/s)**-6\n",
        "    return 4 * e * (dist_term * (dist_term - 1)) #unreduced!\n",
        "\n",
        "def point_distance(dim, a, b): #returns the distance (radius) between grid cell A and grid cell B\n",
        "    return ((a//dim - b//dim)**2 + (a%dim - b%dim)**2)**0.5\n",
        "\n",
        "def add_dict_values(a, b): #merges A and B - if A and B share keys, they will be added together.\n",
        "    output = a\n",
        "    for x in b:\n",
        "        output[x] = output.get(x, 0) + b[x]\n",
        "    return output\n",
        "\n",
        "class problem_2D: #A wrapper that holds a potential graph and various misc. data, all in one trenchcoat.\n",
        "    def __init__(self, dim):\n",
        "        self.connections = {} #All the links between nodes, in form (nodeID1, nodeID2):strength\n",
        "        self.positions = {} #all of the \"physical\" positions of the nodes, in form nodeID:(x,y). Usually this will simply be aligned with the grid, but might be staggered in future.\n",
        "        self.dim = dim\n",
        "        self.cellcount = dim**2\n",
        "        for x in range(dim):\n",
        "            for y in range(dim):\n",
        "                self.positions[dim*y + x] = (x,y)\n",
        "\n",
        "    def assignPotentials_LJ(self, sigma, epsilon, cutoff):\n",
        "        for a in range(self.cellcount):\n",
        "            for b in range(a+1, self.cellcount):\n",
        "                distance = point_distance(self.dim,a,b)\n",
        "                if(distance <= cutoff):\n",
        "                    self.connections[(a,b)] = LJ(sigma, epsilon, distance)\n",
        "\n",
        "    def assignPotentials_chemical(self, chemicalpotential):\n",
        "        for x in range(self.cellcount):\n",
        "            self.connections[(x,x)] = chemicalpotential\n",
        "\n",
        "    def getBQM(self): #attempts to return a dimod.BQM object from this problem_2D.\n",
        "        output = dimod.BinaryQuadraticModel(vartype='BINARY')\n",
        "        for variable in self.positions:\n",
        "            output.add_variable(variable)\n",
        "        for connection in self.connections:\n",
        "            a, b = connection\n",
        "            if(a == b):\n",
        "                output.add_linear(a, self.connections[connection])\n",
        "            else:\n",
        "                output.add_quadratic(a, b, self.connections[connection])\n",
        "        return output\n",
        "        return dimod.BinaryQuadraticModel(self.connections, {}, vartype='BINARY')\n",
        "\n",
        "def quick_simple_BQM(dim, sigma, epsilon, chemicalpotential, cutoff): #quickly builds a simple BQM - no staggering, just a normal grid of nodes.\n",
        "    output = problem_2D(dim)\n",
        "    output.assignPotentials_chemical(chemicalpotential)\n",
        "    output.assignPotentials_LJ(sigma, epsilon, cutoff)\n",
        "    return output.getBQM()\n",
        "\n",
        "def print_sample(sampledata): #Makes a pretty little thing to visualize a single SampleView object.\n",
        "    dim = int((max(sampledata.keys()) + 1)**0.5)\n",
        "    for y in range(dim):\n",
        "        for x in range(dim):\n",
        "            print((\"░\", \"█\")[sampledata[y*dim+x]], end='')\n",
        "        print(\"\")\n",
        "def print_sampleset(sampleset): #same as above, but for an entire set.\n",
        "    for sample in sampleset.samples():\n",
        "        print_sample(sample)\n",
        "        print(\"\\n\")\n"
      ],
      "metadata": {
        "id": "VnFbrlra3aOH"
      },
      "execution_count": 27,
      "outputs": []
    },
    {
      "cell_type": "code",
      "source": [
        "def sampleset_exact(BQM):\n",
        "    sampler = dimod.ExactSolver().sample\n",
        "    return sampler(BQM)\n",
        "\n",
        "def sampleset_random(BQM, num_reads=10):\n",
        "    sampler = dimod.RandomSampler().sample\n",
        "    return sampler(BQM, num_reads=num_reads)\n",
        "\n",
        "def sampleset_hybrid(BQM): #I pulled this from simulation.py, I have no idea how this works\n",
        "    sampler = LeapHybridSampler()\n",
        "    return sampler.sample(BQM)"
      ],
      "metadata": {
        "id": "kkuu5hV9c5YP"
      },
      "execution_count": 28,
      "outputs": []
    },
    {
      "cell_type": "code",
      "source": [
        "def getlengths(sample): #Takes a single sample, returns a dict representing a histogram of all lengths.\n",
        "    dim = int((max(sample.keys()) + 1)**0.5) #get the dimensions of the sample\n",
        "    output = {}\n",
        "    s = list(sample.values()) #extract dict values and make a list representing the microstate\n",
        "    for a in range(len(s)):\n",
        "        if(s[a] == 0): continue\n",
        "        for b in range(a+1, len(s)):\n",
        "          if(s[b] == 0): continue\n",
        "          distance = point_distance(dim, a, b)\n",
        "          output[distance] = output.get(distance, 0) + 1\n",
        "    return output\n",
        "\n",
        "def getlengths_sampleset(sampleset): #same as getlengths, except it works over a large sampleset instead.\n",
        "    output = {}\n",
        "    for sample in sampleset.samples():\n",
        "        result = getlengths(sample)\n",
        "        for x in result:\n",
        "            output[x] = output.get(x, 0) + result[x] #add up all values in the two dicts\n",
        "    return output\n",
        "\n",
        "def print_dict_excel(x): #print in a way that can be copied into excel\n",
        "    for item in x:\n",
        "        print(item, x[item])"
      ],
      "metadata": {
        "id": "gqO4MHFb3vzc"
      },
      "execution_count": 29,
      "outputs": []
    },
    {
      "cell_type": "code",
      "source": [
        "testresults = sampleset_hybrid(quick_simple_BQM(20,5.0,0.5,0.4,10))\n",
        "print_sampleset(testresults)\n",
        "\n",
        "print_dict_excel(getlengths_sampleset(testresults))\n",
        "#todo - add proper statistics, like in CAP"
      ],
      "metadata": {
        "colab": {
          "base_uri": "https://localhost:8080/"
        },
        "id": "uT2uWnvmx5ui",
        "outputId": "01814fe0-912e-40c8-adb0-d95a20188ac0"
      },
      "execution_count": 30,
      "outputs": [
        {
          "output_type": "stream",
          "name": "stdout",
          "text": [
            "░░░░░█░░░░░░░░░░░░░░\n░░░░░░░░░░█░░░░░░░░░\n░░░░░░░░░░░░░░█░░░░░\n░░░░░░░░░░░░░░░░░░░░\n░░░█░░░░░░░░░░░░░░░░\n░░░░░░░░░░░█░░░░░░█░\n░░░░░░░░░░░░░░░░░░░░\n░░░░░░░█░░░░░░░█░░░░\n░░█░░░░░░░░░░░░░░░░░\n░░░░░░░░░░░█░░░░░░░█\n░░░░░░░░░░░░░░░░░░░░\n░░░░░█░░░░░░░░░░░░░░\n░░░░░░░░░░░░░░░░░░░░\n░░░░░░░░░░░░░█░░░░░░\n░░░░░░░░░░░░░░░░░░░░\n░░░░█░░░█░░░░░░░░░░░\n█░░░░░░░░░░░░░░░░░░░\n░░░░░░░░░░░█░░░░█░░░\n░░░░░░░░░░░░░░░░░░░░\n░░░░░░░░█░░░░░░░░░░█\n\n\n5.0990195135927845 3\n9.219544457292887 4\n4.47213595499958 9\n7.810249675906654 3\n13.92838827718412 1\n7.280109889280518 4\n12.206555615733702 2\n8.54400374531753 5\n10.816653826391969 1\n16.64331697709324 2\n11.0 2\n15.264337522473747 2\n15.033296378372908 2\n15.297058540778355 2\n16.76305461424021 2\n18.027756377319946 3\n20.248456731316587 3\n19.235384061671343 2\n23.600847442411894 1\n4.123105625617661 6\n7.615773105863909 2\n8.94427190999916 2\n6.708203932499369 2\n10.63014581273465 2\n8.06225774829855 5\n12.041594578792296 2\n11.180339887498949 3\n12.36931687685298 3\n15.231546211727817 1\n14.142135623730951 3\n16.0312195418814 2\n17.08800749063506 1\n18.110770276274835 1\n20.12461179749811 1\n4.242640687119285 2\n5.0 5\n8.602325267042627 2\n13.416407864998739 1\n12.727922061357855 2\n11.045361017187261 3\n16.401219466856727 1\n14.317821063276353 3\n19.79898987322333 1\n15.132745950421556 1\n17.72004514666935 1\n9.433981132056603 3\n13.45362404707371 2\n12.083045973594572 2\n18.384776310850235 1\n15.811388300841896 1\n21.93171219946131 1\n7.0 1\n9.486832980505138 1\n4.0 3\n8.48528137423857 4\n8.246211251235321 6\n10.44030650891055 2\n15.556349186104045 1\n12.0 1\n13.0 1\n16.1245154965971 2\n3.605551275463989 4\n16.278820596099706 1\n17.204650534085253 2\n21.095023109728988 1\n13.892443989449804 2\n12.165525060596439 3\n14.035668847618199 1\n8.0 3\n11.40175425099138 1\n10.770329614269007 3\n16.97056274847714 1\n13.038404810405298 2\n6.324555320336759 2\n13.601470508735444 1\n17.4928556845359 1\n10.04987562112089 1\n12.649110640673518 1\n9.055385138137417 1\n17.029386365926403 1\n12.529964086141668 3\n12.806248474865697 1\n7.211102550927978 1\n16.15549442140351 1\n11.313708498984761 1\n14.866068747318506 1\n10.0 1\n7.0710678118654755 1\n5.385164807134504 1\n13.341664064126334 1\n5.656854249492381 1\n15.524174696260024 1\n11.704699910719626 1\n"
          ]
        }
      ]
    }
  ]
}